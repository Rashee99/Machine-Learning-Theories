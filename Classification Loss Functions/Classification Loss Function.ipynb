{
 "cells": [
  {
   "cell_type": "code",
   "execution_count": 6,
   "id": "c57e7b11",
   "metadata": {},
   "outputs": [],
   "source": [
    "import tensorflow as tf\n",
    "import keras"
   ]
  },
  {
   "cell_type": "code",
   "execution_count": 7,
   "id": "b4187463",
   "metadata": {},
   "outputs": [],
   "source": [
    "y_true = [0, 1, 0, 0]\n",
    "y_pred = [0.3, 0.6, 0.7, 0.1]"
   ]
  },
  {
   "cell_type": "code",
   "execution_count": 8,
   "id": "007ded34",
   "metadata": {},
   "outputs": [
    {
     "name": "stdout",
     "output_type": "stream",
     "text": [
      "Binary Cross Entropy : 0.544208288192749\n"
     ]
    }
   ],
   "source": [
    "# Binary classification Entropy\n",
    "bce = tf.keras.losses.BinaryCrossentropy()\n",
    "results = bce(y_true,y_pred).numpy()\n",
    "print(f\"Binary Cross Entropy : {results}\")"
   ]
  },
  {
   "cell_type": "code",
   "execution_count": 9,
   "id": "b89c3c35",
   "metadata": {},
   "outputs": [
    {
     "name": "stdout",
     "output_type": "stream",
     "text": [
      "Catergorical Cross Entropy : 1.1769392490386963\n"
     ]
    }
   ],
   "source": [
    "# Catergorical Cross Entropy\n",
    "y_true = [0, 1, 0],[0, 0, 1]\n",
    "y_pred = [[0.05, 0.95, 0],[0.1, 0.8, 0.1]]\n",
    "\n",
    "cce = tf.keras.losses.CategoricalCrossentropy()\n",
    "results = cce(y_true,y_pred).numpy()\n",
    "print(f\"Catergorical Cross Entropy : {results}\")"
   ]
  },
  {
   "cell_type": "code",
   "execution_count": 11,
   "id": "7418d80a",
   "metadata": {},
   "outputs": [
    {
     "name": "stdout",
     "output_type": "stream",
     "text": [
      "Sparse Catergorical Cross Entropy : 1.6094379425048828\n"
     ]
    }
   ],
   "source": [
    "# Sparse Catergorical Cross Entropy\n",
    "y_true = [0, 1]\n",
    "y_pred = [[0.05, 0.95, 0],[0.1, 0.8, 0.1]]\n",
    "\n",
    "scce = tf.keras.losses.SparseCategoricalCrossentropy()\n",
    "results = scce(y_true,y_pred).numpy()\n",
    "print(f\"Sparse Catergorical Cross Entropy : {results}\")\n"
   ]
  }
 ],
 "metadata": {
  "kernelspec": {
   "display_name": "Python 3 (ipykernel)",
   "language": "python",
   "name": "python3"
  },
  "language_info": {
   "codemirror_mode": {
    "name": "ipython",
    "version": 3
   },
   "file_extension": ".py",
   "mimetype": "text/x-python",
   "name": "python",
   "nbconvert_exporter": "python",
   "pygments_lexer": "ipython3",
   "version": "3.9.6"
  }
 },
 "nbformat": 4,
 "nbformat_minor": 5
}
