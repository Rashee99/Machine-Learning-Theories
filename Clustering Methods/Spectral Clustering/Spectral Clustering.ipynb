{
 "cells": [
  {
   "cell_type": "code",
   "execution_count": null,
   "id": "e1c8ea36",
   "metadata": {},
   "outputs": [],
   "source": [
    "import pandas as pd\n",
    "import matplotlib.pyplot as plt \n",
    "\n",
    "from sklearn.cluster import SpectralClustering"
   ]
  },
  {
   "cell_type": "code",
   "execution_count": null,
   "id": "93edc662",
   "metadata": {},
   "outputs": [],
   "source": [
    "# Load dataset\n",
    "cctv23 = pd.read_csv(\"data_cctv23.csv\")\n",
    "cctv23.sample(5)"
   ]
  },
  {
   "cell_type": "code",
   "execution_count": null,
   "id": "e2c53abd",
   "metadata": {},
   "outputs": [],
   "source": [
    "# Plot the dataset\n",
    "for id_num in cctv23[\"Ids\"]:\n",
    "    plot_value = cctv23[cctv23['Ids']==id_num]\n",
    "    plt.scatter(plot_value['X'], plot_value['Y'],s=1)\n",
    "   \n",
    "plt.xlabel(\"X-axis\")\n",
    "plt.ylabel(\"Y-axis\")\n",
    "plt.title(\"CCTV23\")"
   ]
  },
  {
   "cell_type": "code",
   "execution_count": null,
   "id": "7367fa7c",
   "metadata": {},
   "outputs": [],
   "source": [
    "# Spectral Clustering Model\n",
    "model = SpectralClustering(n_clusters=2, affinity='nearest_neighbors', random_state=42)\n",
    "pred = model.fit_predict(cctv23[['X','Y']])\n",
    "cctv23[\"Cluster\"] = pred"
   ]
  },
  {
   "cell_type": "code",
   "execution_count": null,
   "id": "fed83685",
   "metadata": {},
   "outputs": [],
   "source": [
    "cctv23.sample(10)"
   ]
  },
  {
   "cell_type": "code",
   "execution_count": null,
   "id": "fad82ecd",
   "metadata": {},
   "outputs": [],
   "source": [
    "# Plot the clustered data\n",
    "c1 = cctv23[cctv23['Cluster']==0]\n",
    "c2 = cctv23[cctv23['Cluster']==1]\n",
    "\n",
    "plt.scatter(c1['X'],c1['Y'],s=1)\n",
    "plt.scatter(c2['X'],c2['Y'],s=1)\n",
    "plt.xlabel(\"X coordination\")\n",
    "plt.ylabel(\"Y coordination\")\n",
    "plt.title(\"CCTV23 - Spectral Clustering\")"
   ]
  }
 ],
 "metadata": {
  "kernelspec": {
   "display_name": "Python 3 (ipykernel)",
   "language": "python",
   "name": "python3"
  },
  "language_info": {
   "codemirror_mode": {
    "name": "ipython",
    "version": 3
   },
   "file_extension": ".py",
   "mimetype": "text/x-python",
   "name": "python",
   "nbconvert_exporter": "python",
   "pygments_lexer": "ipython3",
   "version": "3.9.6"
  }
 },
 "nbformat": 4,
 "nbformat_minor": 5
}
