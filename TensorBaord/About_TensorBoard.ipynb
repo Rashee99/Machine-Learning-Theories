{
 "cells": [
  {
   "cell_type": "markdown",
   "id": "942f0093",
   "metadata": {},
   "source": [
    "# Using TensorBoard for TensorFlow Visualization\n",
    "\n",
    "TensorBoard is a visualization toolkit for TensorFlow, a popular machine learning framework. It allows you to visualize and monitor various aspects of your TensorFlow model's performance, such as loss and accuracy, as well as visualize the computational graph of your model.\n",
    "\n",
    "## Explanation\n",
    "\n",
    "1. **Import TensorFlow and TensorBoard**: Make sure you have TensorFlow installed. You can import TensorFlow and the TensorBoard module like this:"
   ]
  },
  {
   "cell_type": "code",
   "execution_count": 1,
   "id": "3ecb8b4e",
   "metadata": {},
   "outputs": [],
   "source": [
    "import pickle\n",
    "import time \n",
    "from tensorflow.keras.models import Sequential\n",
    "from tensorflow.keras.layers import Conv2D, MaxPool2D, Flatten, Dense \n",
    "from tensorflow.keras.callbacks import TensorBoard  ######"
   ]
  },
  {
   "cell_type": "markdown",
   "id": "e3984f17",
   "metadata": {},
   "source": [
    "2. **Create a TensorBoard Callback:** You need to create a TensorBoard callback to log data for visualization. This callback will be passed to the model during training."
   ]
  },
  {
   "cell_type": "code",
   "execution_count": null,
   "id": "dfdea13b",
   "metadata": {},
   "outputs": [],
   "source": [
    "Name = f'cat-vs-dog-prediction-{int(time.time())}'\n",
    "\n",
    "tensorboard = TensorBoard(log_dir=f'logs\\\\{Name}\\\\')"
   ]
  },
  {
   "cell_type": "markdown",
   "id": "ec185082",
   "metadata": {},
   "source": [
    "3. **Add the Callback to Model Training:** When training your model, pass the TensorBoard callback to the fit() method."
   ]
  },
  {
   "cell_type": "code",
   "execution_count": null,
   "id": "ad60b5ab",
   "metadata": {},
   "outputs": [],
   "source": [
    "x = pickle.load(open('X.pkl','rb')) # Not uploaded this \n",
    "y = pickle.load(open('Y.pkl','rb'))\n",
    "\n",
    "x = x/255\n",
    "\n",
    "model = Sequential()\n",
    "\n",
    "model.add(Conv2D(64, (3,3), activation = 'relu'))\n",
    "model.add(MaxPool2D((2,2)))\n",
    "\n",
    "model.add(Conv2D(64, (3,3), activation = 'relu'))\n",
    "model.add(MaxPool2D((2,2)))\n",
    "\n",
    "model.add(Flatten())\n",
    "\n",
    "model.add(Dense(128,input_shape = x.shape[1:], activation = 'relu'))\n",
    "\n",
    "model.add(Dense(2, activation = 'softmax'))\n",
    "\n",
    "model.compile(optimizer='adam', loss='sparse_categorical_crossentropy', metrics=['accuracy'])\n",
    "\n",
    "model.fit(x,y, epochs=5, validation_split=0.1, batch_size=32, callbacks=tensorboard) ####"
   ]
  },
  {
   "cell_type": "markdown",
   "id": "41e14991",
   "metadata": {},
   "source": [
    "3. **Run TensorBoard:** After training your model, you can run TensorBoard from the command line to visualize the logged data."
   ]
  },
  {
   "cell_type": "code",
   "execution_count": null,
   "id": "16bd54c4",
   "metadata": {},
   "outputs": [],
   "source": [
    "tensorboard --logdir=logs/ #(cmd)"
   ]
  },
  {
   "cell_type": "markdown",
   "id": "e4d2dc63",
   "metadata": {},
   "source": [
    "5. **Access TensorBoard in Browser:** TensorBoard will start a local web server. You can access the visualization dashboard in your browser by navigating to http://localhost:6006 (by default)."
   ]
  }
 ],
 "metadata": {
  "kernelspec": {
   "display_name": "Python 3 (ipykernel)",
   "language": "python",
   "name": "python3"
  },
  "language_info": {
   "codemirror_mode": {
    "name": "ipython",
    "version": 3
   },
   "file_extension": ".py",
   "mimetype": "text/x-python",
   "name": "python",
   "nbconvert_exporter": "python",
   "pygments_lexer": "ipython3",
   "version": "3.9.6"
  }
 },
 "nbformat": 4,
 "nbformat_minor": 5
}
