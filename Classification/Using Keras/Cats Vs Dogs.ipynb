{
 "cells": [
  {
   "cell_type": "code",
   "execution_count": 15,
   "id": "d6e476d2",
   "metadata": {},
   "outputs": [],
   "source": [
    "import numpy as np\n",
    "import cv2\n",
    "import os\n",
    "import random\n",
    "import matplotlib.pyplot as plt\n",
    "import pickle  # Save the data"
   ]
  },
  {
   "cell_type": "code",
   "execution_count": 16,
   "id": "12f984b2",
   "metadata": {},
   "outputs": [],
   "source": [
    "directory = r'E:\\Self Learning\\Machine Learning\\ML\\Image Classification\\cat_dog'\n",
    "catagories =  ['cat','dog']"
   ]
  },
  {
   "cell_type": "code",
   "execution_count": 19,
   "id": "d3abb771",
   "metadata": {},
   "outputs": [],
   "source": [
    "img_size = 100 # image resizing size\n",
    "data = []\n",
    "\n",
    "for category in catagories:\n",
    "    folder = os.path.join(directory, category) # get the folder path\n",
    "    label = catagories.index(category)\n",
    "    for img in os.listdir(folder):\n",
    "        img_path = os.path.join(folder, img) # get the image path \n",
    "        img_arr = cv2.imread(img_path) # read the image\n",
    "        img_arr = cv2.resize(img_arr,(img_size, img_size)) # Resizing the image\n",
    "        data.append([img_arr, label])\n",
    "        #plt.imshow(img_arr) # show the image   "
   ]
  },
  {
   "cell_type": "code",
   "execution_count": 20,
   "id": "342a67bb",
   "metadata": {},
   "outputs": [
    {
     "data": {
      "text/plain": [
       "10028"
      ]
     },
     "execution_count": 20,
     "metadata": {},
     "output_type": "execute_result"
    }
   ],
   "source": [
    "len(data)"
   ]
  },
  {
   "cell_type": "code",
   "execution_count": 21,
   "id": "bfcea138",
   "metadata": {},
   "outputs": [],
   "source": [
    "# shuffle the data\n",
    "random.shuffle(data)"
   ]
  },
  {
   "cell_type": "code",
   "execution_count": 22,
   "id": "81c07e3a",
   "metadata": {},
   "outputs": [
    {
     "data": {
      "text/plain": [
       "[array([[[ 97,  91,  72],\n",
       "         [ 85,  79,  60],\n",
       "         [ 89,  83,  64],\n",
       "         ...,\n",
       "         [202, 211, 225],\n",
       "         [197, 206, 220],\n",
       "         [195, 204, 218]],\n",
       " \n",
       "        [[ 96,  89,  70],\n",
       "         [ 87,  81,  62],\n",
       "         [ 91,  85,  66],\n",
       "         ...,\n",
       "         [197, 206, 220],\n",
       "         [197, 206, 220],\n",
       "         [194, 203, 217]],\n",
       " \n",
       "        [[ 99,  93,  74],\n",
       "         [ 99,  93,  74],\n",
       "         [103,  97,  78],\n",
       "         ...,\n",
       "         [197, 206, 220],\n",
       "         [198, 207, 221],\n",
       "         [193, 202, 216]],\n",
       " \n",
       "        ...,\n",
       " \n",
       "        [[182, 194, 205],\n",
       "         [143, 148, 142],\n",
       "         [156, 141, 137],\n",
       "         ...,\n",
       "         [216, 226, 233],\n",
       "         [214, 224, 231],\n",
       "         [218, 228, 235]],\n",
       " \n",
       "        [[186, 192, 200],\n",
       "         [153, 138, 131],\n",
       "         [159, 121, 117],\n",
       "         ...,\n",
       "         [217, 227, 234],\n",
       "         [215, 225, 232],\n",
       "         [219, 229, 236]],\n",
       " \n",
       "        [[150, 172, 177],\n",
       "         [165, 169, 172],\n",
       "         [205, 205, 206],\n",
       "         ...,\n",
       "         [215, 225, 232],\n",
       "         [216, 226, 233],\n",
       "         [219, 229, 236]]], dtype=uint8),\n",
       " 0]"
      ]
     },
     "execution_count": 22,
     "metadata": {},
     "output_type": "execute_result"
    }
   ],
   "source": [
    "data[0]"
   ]
  },
  {
   "cell_type": "code",
   "execution_count": 23,
   "id": "47eee6e2",
   "metadata": {},
   "outputs": [],
   "source": [
    "x = []\n",
    "y = []\n",
    "\n",
    "for features, labels in data:\n",
    "    x.append(features)\n",
    "    y.append(labels)"
   ]
  },
  {
   "cell_type": "code",
   "execution_count": 24,
   "id": "da88a877",
   "metadata": {},
   "outputs": [],
   "source": [
    "X = np.array(x)\n",
    "Y = np.array(y)"
   ]
  },
  {
   "cell_type": "code",
   "execution_count": 25,
   "id": "f432c771",
   "metadata": {},
   "outputs": [
    {
     "data": {
      "text/plain": [
       "10028"
      ]
     },
     "execution_count": 25,
     "metadata": {},
     "output_type": "execute_result"
    }
   ],
   "source": [
    "len(Y)"
   ]
  },
  {
   "cell_type": "code",
   "execution_count": 26,
   "id": "cb9e9cd1",
   "metadata": {},
   "outputs": [],
   "source": [
    "# Save \n",
    "pickle.dump(X, open('X.pkl', 'wb')) # dump is used to write wb - write and binary\n",
    "pickle.dump(Y, open('y.pkl', 'wb')) "
   ]
  }
 ],
 "metadata": {
  "kernelspec": {
   "display_name": "Python 3 (ipykernel)",
   "language": "python",
   "name": "python3"
  },
  "language_info": {
   "codemirror_mode": {
    "name": "ipython",
    "version": 3
   },
   "file_extension": ".py",
   "mimetype": "text/x-python",
   "name": "python",
   "nbconvert_exporter": "python",
   "pygments_lexer": "ipython3",
   "version": "3.9.6"
  }
 },
 "nbformat": 4,
 "nbformat_minor": 5
}
