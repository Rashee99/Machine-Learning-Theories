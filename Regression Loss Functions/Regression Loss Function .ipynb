{
 "cells": [
  {
   "cell_type": "code",
   "execution_count": 9,
   "id": "0c4e8c91",
   "metadata": {},
   "outputs": [],
   "source": [
    "import tensorflow as tf\n",
    "import keras \n",
    "import numpy"
   ]
  },
  {
   "cell_type": "code",
   "execution_count": 10,
   "id": "a8402053",
   "metadata": {},
   "outputs": [],
   "source": [
    "y_true = [0.0, 0.5, 0.7, 1.0]\n",
    "y_pred = [0.2, 0.3, 0.9, 0.7]"
   ]
  },
  {
   "cell_type": "code",
   "execution_count": 11,
   "id": "8ab60493",
   "metadata": {},
   "outputs": [
    {
     "name": "stdout",
     "output_type": "stream",
     "text": [
      "Mean Squared Error: 0.05249999836087227\n"
     ]
    }
   ],
   "source": [
    "# Mean Square Error\n",
    "mse = tf.keras.losses.MeanSquaredError()\n",
    "results = mse(y_true, y_pred).numpy()\n",
    "print(f\"Mean Squared Error: {results}\")"
   ]
  },
  {
   "cell_type": "code",
   "execution_count": 14,
   "id": "a27453e5",
   "metadata": {},
   "outputs": [
    {
     "name": "stdout",
     "output_type": "stream",
     "text": [
      "Mean Absolute Error: 0.22499999403953552\n"
     ]
    }
   ],
   "source": [
    "# Mean Absolute Error\n",
    "mae = tf.keras.losses.MeanAbsoluteError()\n",
    "results = mae(y_true, y_pred).numpy()\n",
    "print(f\"Mean Absolute Error: {results}\")"
   ]
  },
  {
   "cell_type": "code",
   "execution_count": 15,
   "id": "a18f8b9c",
   "metadata": {},
   "outputs": [
    {
     "name": "stdout",
     "output_type": "stream",
     "text": [
      "Mean Absolute Error: 0.026249999180436134\n"
     ]
    }
   ],
   "source": [
    "# Huber Error\n",
    "huber = tf.keras.losses.Huber()\n",
    "results = huber(y_true, y_pred).numpy()\n",
    "print(f\"Mean Absolute Error: {results}\")"
   ]
  }
 ],
 "metadata": {
  "kernelspec": {
   "display_name": "Python 3 (ipykernel)",
   "language": "python",
   "name": "python3"
  },
  "language_info": {
   "codemirror_mode": {
    "name": "ipython",
    "version": 3
   },
   "file_extension": ".py",
   "mimetype": "text/x-python",
   "name": "python",
   "nbconvert_exporter": "python",
   "pygments_lexer": "ipython3",
   "version": "3.9.6"
  }
 },
 "nbformat": 4,
 "nbformat_minor": 5
}
